{
 "cells": [
  {
   "cell_type": "markdown",
   "id": "82ce4436",
   "metadata": {},
   "source": [
    "# starting code:\n",
    "\n",
    "1. Load all English words, and only keep those that are 3 letters long"
   ]
  },
  {
   "cell_type": "code",
   "execution_count": 1,
   "id": "ff6fa6dc",
   "metadata": {},
   "outputs": [
    {
     "name": "stderr",
     "output_type": "stream",
     "text": [
      "[nltk_data] Downloading package words to /home/jovyan/nltk_data...\n",
      "[nltk_data]   Unzipping corpora/words.zip.\n"
     ]
    },
    {
     "data": {
      "text/plain": [
       "True"
      ]
     },
     "execution_count": 1,
     "metadata": {},
     "output_type": "execute_result"
    }
   ],
   "source": [
    "import nltk\n",
    "from nltk.corpus import words\n",
    "nltk.download('words')"
   ]
  },
  {
   "cell_type": "code",
   "execution_count": 3,
   "id": "ae9f7be7",
   "metadata": {},
   "outputs": [
    {
     "name": "stdout",
     "output_type": "stream",
     "text": [
      "236736\n"
     ]
    }
   ],
   "source": [
    "all_english_words = words.words()\n",
    "print(len(all_english_words))"
   ]
  },
  {
   "cell_type": "code",
   "execution_count": 4,
   "id": "02e539da",
   "metadata": {},
   "outputs": [],
   "source": [
    "def just_words_of_one_length(all_words, length):\n",
    "    words_with_x_letters = [word.lower() \n",
    "                            for word in all_words\n",
    "                            if len(word)==length]\n",
    "    return words_with_x_letters"
   ]
  },
  {
   "cell_type": "code",
   "execution_count": 5,
   "id": "7e0f8233",
   "metadata": {},
   "outputs": [
    {
     "name": "stdout",
     "output_type": "stream",
     "text": [
      "number of 3 letter words: 1510\n"
     ]
    }
   ],
   "source": [
    "short_words = just_words_of_one_length(all_english_words, 3)\n",
    "print(\"number of 3 letter words:\",len(short_words))"
   ]
  },
  {
   "cell_type": "markdown",
   "id": "fe769dbc",
   "metadata": {},
   "source": [
    "# Your task:\n",
    "\n",
    "0. randomly select the 'secret word' from short_words\n",
    "1. allow user to type in a their guess\n",
    "2. check if the player guessed the secret\n",
    "3. if they did not, for each letter give user feedback. Tell them which letters are in the correct place, which are in incorrect place, and which are not in the solution at all.\n",
    "\n",
    "eg. if the secret was 'bat'thee feedback could be: (it's up to you)\n",
    "```\n",
    "your guess lot. \n",
    "feedback: l🚫 o🚫 t✅\n",
    "\n",
    "your guess tan.\n",
    "feedback: t☑️ a✅ n🚫\n",
    "\n",
    "your guess cat. \n",
    "feedback: c🚫 a✅ t✅\n",
    "\n",
    "your guess bat. \n",
    "feedback: b✅ a✅ t✅\n",
    "\n",
    "YOU WIN. The secret was 'bat'\n",
    "```"
   ]
  },
  {
   "cell_type": "markdown",
   "id": "c3980a85",
   "metadata": {},
   "source": [
    "# some code to get you started"
   ]
  },
  {
   "cell_type": "code",
   "execution_count": null,
   "id": "d3bc4461",
   "metadata": {},
   "outputs": [],
   "source": [
    "# loop until someone guesses\n",
    "secret = \"banana\"\n",
    "while True:\n",
    "        guess = int(input('Type in your guess:'))\n",
    "\n",
    "        if guess == secret:\n",
    "            print(\"Correct!\")\n",
    "            break\n",
    "        else:\n",
    "            print(\"TODO: here give feedback\")"
   ]
  },
  {
   "cell_type": "code",
   "execution_count": null,
   "id": "8ac6bfea",
   "metadata": {},
   "outputs": [],
   "source": [
    "# random item from a list\n",
    "import random\n",
    "some_words= [\"aa\",\"bb\",\"cc\"]\n",
    "random_index = random.randint(0,len(some_words)-1)\n",
    "random_word = some_words[random_index]\n",
    "print(random_word)"
   ]
  },
  {
   "cell_type": "code",
   "execution_count": null,
   "id": "d3b26c81",
   "metadata": {},
   "outputs": [],
   "source": [
    "# get an n-th letter of a word:\n",
    "word = \"banana\"\n",
    "print(word[2])\n",
    "\n",
    "if (word[0] == \"b\"):\n",
    "    print(\"it starts with b!\")"
   ]
  },
  {
   "cell_type": "markdown",
   "id": "66e7a043",
   "metadata": {},
   "source": [
    "# Your turn, good luck!\n",
    "\n",
    "Write yoru code below"
   ]
  },
  {
   "cell_type": "code",
   "execution_count": null,
   "id": "6373625f",
   "metadata": {},
   "outputs": [],
   "source": []
  },
  {
   "cell_type": "code",
   "execution_count": null,
   "id": "52bdbd8f",
   "metadata": {},
   "outputs": [],
   "source": []
  },
  {
   "cell_type": "code",
   "execution_count": null,
   "id": "adad0f3f",
   "metadata": {},
   "outputs": [],
   "source": []
  }
 ],
 "metadata": {
  "kernelspec": {
   "display_name": "Python 3 (ipykernel)",
   "language": "python",
   "name": "python3"
  },
  "language_info": {
   "codemirror_mode": {
    "name": "ipython",
    "version": 3
   },
   "file_extension": ".py",
   "mimetype": "text/x-python",
   "name": "python",
   "nbconvert_exporter": "python",
   "pygments_lexer": "ipython3",
   "version": "3.9.12"
  }
 },
 "nbformat": 4,
 "nbformat_minor": 5
}
